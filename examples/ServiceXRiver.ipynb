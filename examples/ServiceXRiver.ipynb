{
 "cells": [
  {
   "cell_type": "code",
   "execution_count": 1,
   "metadata": {},
   "outputs": [],
   "source": [
    "import requests\n",
    "# from minio import Minio\n",
    "import tempfile\n",
    "import pyarrow.parquet as pq\n",
    "import pyarrow as pa\n",
    "import awkward\n",
    "from confluent_kafka import Consumer, KafkaException\n",
    "import uproot_methods\n",
    "from coffea import hist\n",
    "import matplotlib.pyplot as plt"
   ]
  },
  {
   "cell_type": "code",
   "execution_count": 2,
   "metadata": {},
   "outputs": [
    {
     "name": "stdout",
     "output_type": "stream",
     "text": [
      "{'request_id': '85cc5d37-59b6-4381-be42-5c4c7b813982'}\n"
     ]
    }
   ],
   "source": [
    "n_workers = 17\n",
    "servicex_endpoint = \"http://release-name-servicex-app.servicex:8000/servicex\"\n",
    "response = requests.post(servicex_endpoint+\"/transformation\", json={\n",
    "    \"did\": \"mc15_13TeV:mc15_13TeV.361106.PowhegPythia8EvtGen_AZNLOCTEQ6L1_Zee.merge.DAOD_STDM3.e3601_s2576_s2132_r6630_r6264_p2363_tid05630052_00\",\n",
    "    # \"did\": \"data17_13TeV:data17_13TeV.periodK.physics_Main.PhysCont.DAOD_STDM7.grp22_v01_p3713\",\n",
    "    # \"did\": \"data18_13TeV:data18_13TeV.periodL.physics_Main.PhysCont.DAOD_SUSY2.grp18_v01_p3704\",\n",
    "    \"columns\": \"Electrons.pt(), Electrons.eta(), Electrons.phi(), Electrons.e(), Muons.pt(), Muons.eta(), Muons.phi(), Muons.e()\",\n",
    "    \"image\": \"sslhep/servicex-transformer:v0.1-prep\",\n",
    "    \"result-destination\": \"kafka\",\n",
    "    \"kafka\":{\n",
    "        # \"broker\": \"servicex-kafka-1.slateci.net:19092\"\n",
    "        \"broker\": \"release-name-kafka:9092\"\n",
    "    },\n",
    "    \"chunk-size\": 3000,\n",
    "    \"workers\": n_workers\n",
    "})\n",
    "\n",
    "print(response.json())\n",
    "request_id = response.json()[\"request_id\"]\n",
    "status_endpoint = servicex_endpoint+\"/transformation/{}/status\".format(request_id)"
   ]
  },
  {
   "cell_type": "code",
   "execution_count": 27,
   "metadata": {},
   "outputs": [
    {
     "name": "stdout",
     "output_type": "stream",
     "text": [
      "Request ID:                  85cc5d37-59b6-4381-be42-5c4c7b813982\n",
      "Number of files processed:   5\n",
      "Number of files remaining:   0\n",
      "Number of events processed:  424800\n",
      "Size of files processed:     0.055744344 GB\n",
      "Number of batches sent:      143\n",
      "Total time:                  0.4088235294117647 min\n"
     ]
    }
   ],
   "source": [
    "status = requests.get(status_endpoint).json()\n",
    "# print(\"We have processed {} files there are {} remainng\".format(status['files-processed'], status['files-remaining']))\n",
    "\n",
    "print(\"Request ID:                 \", status['request-id'])\n",
    "print(\"Number of files processed:  \", status['files-processed'])\n",
    "print(\"Number of files remaining:  \", status['files-remaining'])\n",
    "if status['stats']:\n",
    "    print(\"Number of events processed: \", status['stats']['total-events'])\n",
    "    print(\"Size of files processed:    \", status['stats']['total-bytes'] / 1.0e9, \"GB\")\n",
    "    print(\"Number of batches sent:     \", status['stats']['total-messages'])\n",
    "    print(\"Total time:                 \", status['stats']['total-time'] / (n_workers * 60), \"min\")"
   ]
  },
  {
   "cell_type": "code",
   "execution_count": 34,
   "metadata": {},
   "outputs": [
    {
     "name": "stdout",
     "output_type": "stream",
     "text": [
      "85cc5d37-59b6-4381-be42-5c4c7b813982\n"
     ]
    }
   ],
   "source": [
    "conf = {'bootstrap.servers': \"servicex-kafka-1.slateci.net:19092\",\n",
    "        'group.id': \"foo3\",\n",
    "        'default.topic.config': {'auto.offset.reset': 'smallest'}}\n",
    "\n",
    "c = Consumer(conf)\n",
    "\n",
    "print(c.list_topics().topics[request_id])\n",
    "    \n",
    "c.subscribe([request_id])\n",
    "timeout = 10.0 # Need a long timeout to allow for partition assignment\n",
    "running = True\n",
    "all_mass_hists = None"
   ]
  },
  {
   "cell_type": "code",
   "execution_count": 35,
   "metadata": {},
   "outputs": [],
   "source": [
    "while running:\n",
    "    msg = c.poll(timeout=timeout)\n",
    "    if msg is None:\n",
    "        running = False\n",
    "        continue\n",
    "    if msg.error():\n",
    "        raise KafkaException(msg.error())\n",
    "    else:\n",
    "        # Proper message\n",
    "        buf = msg.value()\n",
    "        reader = pa.ipc.open_stream(buf)\n",
    "        batches = [b for b in reader]\n",
    "        for batch in batches:\n",
    "            arrays = awkward.fromarrow(batch)\n",
    "            v_particles = uproot_methods.TLorentzVectorArray.from_ptetaphi(\n",
    "                arrays['Electrons_pt'], arrays['Electrons_eta'],\n",
    "                arrays['Electrons_phi'], arrays['Electrons_e']\n",
    "            )\n",
    "            # v_particles = uproot_methods.TLorentzVectorArray.from_ptetaphi(\n",
    "                # arrays['Muons_pt'], arrays['Muons_eta'],\n",
    "                # arrays['Muons_phi'], arrays['Muons_e']\n",
    "            # )\n",
    "            v_particles = v_particles[v_particles.counts >= 2]\n",
    "            diparticles = v_particles[:, 0] + v_particles[:, 1]\n",
    "            \n",
    "            mass_hist = hist.Hist('Counts', hist.Bin('mass', r'$m_{\\mu\\mu}$ (GeV)', 150, 0.0, 150.0))\n",
    "            mass_hist.fill(mass=diparticles.mass/1000.0)\n",
    "            \n",
    "            if all_mass_hists:\n",
    "                all_mass_hists = all_mass_hists.add(mass_hist)\n",
    "            else:\n",
    "                all_mass_hists = mass_hist\n",
    "            \n",
    "            # n_events = len(arrays.tolist())\n",
    "            # print(\"Number of events: \" + str(n_events))"
   ]
  },
  {
   "cell_type": "code",
   "execution_count": 36,
   "metadata": {},
   "outputs": [
    {
     "data": {
      "image/png": "[encoded data removed]",
      "text/plain": [
       "<Figure size 432x288 with 1 Axes>"
      ]
     },
     "metadata": {},
     "output_type": "display_data"
    }
   ],
   "source": [
    "fig, ax, _ = hist.plot1d(all_mass_hists)\n",
    "plt.show()"
   ]
  },
  {
   "cell_type": "code",
   "execution_count": null,
   "metadata": {},
   "outputs": [],
   "source": []
  }
 ],
 "metadata": {
  "kernelspec": {
   "display_name": "Python 3",
   "language": "python",
   "name": "python3"
  },
  "language_info": {
   "codemirror_mode": {
    "name": "ipython",
    "version": 3
   },
   "file_extension": ".py",
   "mimetype": "text/x-python",
   "name": "python",
   "nbconvert_exporter": "python",
   "pygments_lexer": "ipython3",
   "version": "3.6.5"
  }
 },
 "nbformat": 4,
 "nbformat_minor": 2
}
